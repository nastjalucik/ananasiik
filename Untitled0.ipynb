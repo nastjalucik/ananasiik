{
  "nbformat": 4,
  "nbformat_minor": 0,
  "metadata": {
    "colab": {
      "provenance": [],
      "authorship_tag": "ABX9TyMlLIQDNCxfGiJd9VHi0Oq0",
      "include_colab_link": true
    },
    "kernelspec": {
      "name": "python3",
      "display_name": "Python 3"
    },
    "language_info": {
      "name": "python"
    }
  },
  "cells": [
    {
      "cell_type": "markdown",
      "metadata": {
        "id": "view-in-github",
        "colab_type": "text"
      },
      "source": [
        "<a href=\"https://colab.research.google.com/github/nastjalucik/ananasiik/blob/main/Untitled0.ipynb\" target=\"_parent\"><img src=\"https://colab.research.google.com/assets/colab-badge.svg\" alt=\"Open In Colab\"/></a>"
      ]
    },
    {
      "cell_type": "code",
      "execution_count": 1,
      "metadata": {
        "colab": {
          "base_uri": "https://localhost:8080/"
        },
        "id": "F6CkhdlUZkOu",
        "outputId": "0095b408-71ba-473d-81ca-b62f21acc87b"
      },
      "outputs": [
        {
          "output_type": "stream",
          "name": "stdout",
          "text": [
            "Погода в Москве: + 10\n",
            "Погода в Новосибирске: + 1\n"
          ]
        }
      ],
      "source": [
        "from bs4 import BeautifulSoup\n",
        "import requests\n",
        "url1='https://yandex.com.am/pogoda/ru?lat=55.75581741&lon=37.61764526'\n",
        "url2='https://yandex.com.am/pogoda/ru?lat=55.03020477&lon=82.92043304'\n",
        "response = requests.get(url1)\n",
        "response2 = requests.get(url2)\n",
        "bs = BeautifulSoup(response.text,\"lxml\")\n",
        "bs2 = BeautifulSoup(response2.text,\"lxml\")\n",
        "znak = bs.find('span', 'AppFactTemperature_sign__1MeN4')\n",
        "temp = bs.find('span', 'AppFactTemperature_value__2qhsG')\n",
        "znak2 = bs2.find('span', 'AppFactTemperature_sign__1MeN4')\n",
        "temp2 = bs2.find('span','AppFactTemperature_value__2qhsG')\n",
        "print(\"Погода в Москве:\",znak.text,temp.text)\n",
        "print(\"Погода в Новосибирске:\",znak2.text,temp2.text)"
      ]
    }
  ]
}